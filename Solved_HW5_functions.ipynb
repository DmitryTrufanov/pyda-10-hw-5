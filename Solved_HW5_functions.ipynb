{
 "cells": [
  {
   "cell_type": "markdown",
   "metadata": {},
   "source": [
    "Вы работаете секретарем и вам постоянно приходят различные документы. Вы должны быть очень внимательны, чтобы не потерять ни один документ. Каталог документов хранится в следующем виде:"
   ]
  },
  {
   "cell_type": "code",
   "execution_count": 1,
   "metadata": {},
   "outputs": [],
   "source": [
    "documents = [\n",
    "    {'type': 'passport', 'number': '2207 876234', 'name': 'Василий Гупкин'},\n",
    "    {'type': 'invoice', 'number': '11-2', 'name': 'Геннадий Покемонов'},\n",
    "    {'type': 'insurance', 'number': '10006', 'name': 'Аристарх Павлов'},\n",
    "    {'type': 'insurance', 'number': '10009', 'name': 'Владислав Павло'}\n",
    "]"
   ]
  },
  {
   "cell_type": "markdown",
   "metadata": {},
   "source": [
    "Перечень полок, на которых находятся документы хранится в следующем виде:"
   ]
  },
  {
   "cell_type": "code",
   "execution_count": 2,
   "metadata": {},
   "outputs": [],
   "source": [
    "directories = {\n",
    "    '1': ['2207 876234', '11-2'],\n",
    "    '2': ['10006', '10007', '10008', '10009', '10010'],\n",
    "    '3': ['3000', '3001']\n",
    "}"
   ]
  },
  {
   "cell_type": "markdown",
   "metadata": {},
   "source": [
    "Необходимо реализовать пользовательские команды (внимание! это не название функций, которые должны быть выразительными, а команды, которые вводит пользователь, чтобы получить необходимый результат):\n",
    "  \n",
    "- p – people – команда, которая спросит номер документа и выведет имя человека, которому он принадлежит;  \n",
    "- s – shelf – команда, которая спросит номер документа и выведет номер полки, на которой он находится  \n",
    "*Правильно обработайте ситуации, когда пользователь будет вводить несуществующий документ*.\n",
    "- l – list – команда, которая выведет список всех документов в формате   \n",
    "**passport \"2207 876234\" \"Василий Гупкин\"**  \n",
    "- as – add shelf – команда, которая спросит номер новой полки и добавит ее в перечень. *Предусмотрите случай, когда пользователь добавляет полку, которая уже существует*.\n",
    "- d – delete – команда, которая спросит номер документа и удалит его из каталога и из перечня полок. *Предусмотрите сценарий, когда пользователь вводит несуществующий документ*;  \n",
    "- m – move – команда, которая спросит номер документа и целевую полку и переместит его с текущей полки на целевую. *Корректно обработайте кейсы, когда пользователь пытается переместить несуществующий документ или переместить документ на несуществующую полку*;  \n",
    "- a – add – команда, которая добавит новый документ в каталог и в перечень полок, спросив его номер, тип, имя владельца и номер полки, на котором он будет храниться. *Корректно обработайте ситуацию, когда пользователь будет пытаться добавить документ на несуществующую полку*."
   ]
  },
  {
   "cell_type": "code",
   "execution_count": null,
   "metadata": {},
   "outputs": [],
   "source": [
    "def p(documents):\n",
    "    input_num_doc = input('Введите номер документа: ')\n",
    "    for doc in documents:\n",
    "        if input_num_doc == doc['number']:\n",
    "            print(doc['name'])\n",
    "#            result = doc['name']\n",
    "#            return result"
   ]
  },
  {
   "cell_type": "code",
   "execution_count": null,
   "metadata": {},
   "outputs": [],
   "source": [
    "p(documents)"
   ]
  },
  {
   "cell_type": "code",
   "execution_count": null,
   "metadata": {},
   "outputs": [],
   "source": [
    "def s(directories):\n",
    "    input_user_s = input('Введите номер документа: ')\n",
    "\n",
    "    key_list = list(directories.keys())\n",
    "    val_list = list(directories.values())\n",
    "\n",
    "    for value in directories.values():\n",
    "        #print(value)\n",
    "        for el in value:\n",
    "            if input_user_s == el:\n",
    "                result = print(f'Номер полки: {key_list[val_list.index(value)]}')\n",
    "                return result\n",
    "    print('Номер документа отсутствет')"
   ]
  },
  {
   "cell_type": "code",
   "execution_count": null,
   "metadata": {},
   "outputs": [],
   "source": [
    "s(directories)"
   ]
  },
  {
   "cell_type": "code",
   "execution_count": null,
   "metadata": {},
   "outputs": [],
   "source": [
    "def l(documents):\n",
    "    for document in documents:\n",
    "        print(f'{document[\"type\"]} \"{document[\"number\"]}\" \"{document[\"name\"]}\"')"
   ]
  },
  {
   "cell_type": "code",
   "execution_count": null,
   "metadata": {},
   "outputs": [],
   "source": [
    "def l(directories)"
   ]
  },
  {
   "cell_type": "code",
   "execution_count": null,
   "metadata": {},
   "outputs": [],
   "source": [
    "def a_s(directories):\n",
    "    user_input_dir = input('Введите номер полки для добавления: ')\n",
    "    if user_input_dir in directories:\n",
    "        print(f'Такая полка уже есть. Список существующих полок: {list(directories.keys())}')\n",
    "        user_input_dir = input('Введите еще раз номер полки: ')      \n",
    "        directories [user_input_dir] = []\n",
    "        print('Номера полок:', *directories)\n",
    "    else:\n",
    "        directories [user_input_dir] = []\n",
    "        print('Номера полок:', *directories)\n",
    "        #print(f'Номера полок: {*directories}')"
   ]
  },
  {
   "cell_type": "code",
   "execution_count": null,
   "metadata": {},
   "outputs": [],
   "source": [
    "a_s(directories)"
   ]
  },
  {
   "cell_type": "code",
   "execution_count": null,
   "metadata": {},
   "outputs": [],
   "source": [
    "def d(documents, directories):\n",
    "    input_user_d = input('Введите номер документа: ')\n",
    "    chek1 = True\n",
    "\n",
    "    for doc in documents:                    \n",
    "        if input_user_d == doc['number']:\n",
    "            documents.remove(doc)\n",
    "            chek2 = True\n",
    "            print('Оставшиеся записи: ', *documents, sep=\"\\n\")\n",
    "        else:\n",
    "            chek2 = False                              \n",
    "    \n",
    "    for key, value in directories.items():\n",
    "        for el in value:\n",
    "            if input_user_d == el:\n",
    "                value.remove(input_user_d)\n",
    "                print(f'Полка с оставшимися документами: {key}: {value}')  \n",
    "                \n",
    "    if chek1 != chek2:\n",
    "        print('Документ не найден')\n",
    "    else:\n",
    "        chek1 = chek2\n"
   ]
  },
  {
   "cell_type": "code",
   "execution_count": null,
   "metadata": {},
   "outputs": [],
   "source": [
    "d(documents, directories)"
   ]
  },
  {
   "cell_type": "code",
   "execution_count": null,
   "metadata": {},
   "outputs": [],
   "source": [
    "def m(directories):\n",
    "    input_user_m_doc = '10010'\n",
    "    input_user_m_dir = '12'\n",
    "    chek1 = True\n",
    "    chek3 = True\n",
    "\n",
    "    for key, value in directories.items():    \n",
    "        if input_user_m_dir == key:\n",
    "            value.append(input_user_m_doc)\n",
    "            print(f'Добавлено на полку: {key}: {value}')\n",
    "            chek4 = True\n",
    "#        else:\n",
    "#            chek4 = False\n",
    "#            print('Полка не существует')\n",
    "            #break\n",
    "    \n",
    "            for key, value in directories.items():\n",
    "                for el in value:\n",
    "                    if input_user_m_doc == el:\n",
    "                        value.remove(input_user_m_doc)\n",
    "                        print(f'Удалено с полки: {key}: {value}')\n",
    "                        chek2 = True\n",
    "                    else:\n",
    "                        chek2 = False\n",
    "            \n",
    "#    if chek1 != chek2:\n",
    "#        print('Документ не найден')\n",
    "#    elif chek3 != chek4:\n",
    "#        print('Полка не существует')\n",
    "#    else:\n",
    "#        chek1 = chek2\n",
    "            "
   ]
  },
  {
   "cell_type": "code",
   "execution_count": 102,
   "metadata": {},
   "outputs": [],
   "source": [
    "def m(directories):\n",
    "    input_user_m_doc = '10012'\n",
    "    input_user_m_dir = '12'\n",
    "    chek1 = True\n",
    "    chek2 = False\n",
    "    chek3 = True\n",
    "    chek4 = False\n",
    "\n",
    "    for key, value in directories.items():\n",
    "        for el in value:\n",
    "            if input_user_m_doc == el:\n",
    "                value.remove(input_user_m_doc)\n",
    "                print(f'Удалено с полки: {key}: {value}')\n",
    "                chek2 = True\n",
    "\n",
    "                    \n",
    "\n",
    "    for key, value in directories.items():    \n",
    "        if input_user_m_dir == key:\n",
    "            value.append(input_user_m_doc)\n",
    "            print(f'Добавлено на полку: {key}: {value}')\n",
    "            chek4 = True\n",
    "            "
   ]
  },
  {
   "cell_type": "code",
   "execution_count": 103,
   "metadata": {},
   "outputs": [],
   "source": [
    "m(directories)"
   ]
  },
  {
   "cell_type": "code",
   "execution_count": 108,
   "metadata": {},
   "outputs": [],
   "source": [
    "def a(documents, directories):\n",
    "    input_user_a_dir = '3'\n",
    "    input_user_a_number = '10014'\n",
    "    input_user_a_type = 'insurance'\n",
    "    input_user_a_name = 'Иванf Петровf'\n",
    "    chek1 = True\n",
    "    chek2 = False\n",
    "    i = 0\n",
    "\n",
    "    for key, value in directories.items():    \n",
    "        if input_user_a_dir == key:\n",
    "            value.append(input_user_a_number)\n",
    "            print(f'Полка после изменения: {key}: {value}')\n",
    "            chek2 = True\n",
    "            \n",
    "    if chek1 == chek2:\n",
    "        d1 = dict(type = input_user_a_type, number = input_user_a_number, name = input_user_a_name)\n",
    "        print(f'Добавлена запись: {d1}')\n",
    "        documents.append(d1)\n",
    "    else:\n",
    "            i += 1 # не знаю, что писать в else\n",
    "            print('Полка не существует')\n",
    "\n"
   ]
  },
  {
   "cell_type": "code",
   "execution_count": 109,
   "metadata": {},
   "outputs": [
    {
     "name": "stdout",
     "output_type": "stream",
     "text": [
      "Полка после изменения: 3: ['3000', '3001', '10011', '10011', '10011', '10011', '10014', '10014', '10014', '10014']\n",
      "Добавлена запись: {'type': 'insurance', 'number': '10014', 'name': 'Иванf Петровf'}\n"
     ]
    }
   ],
   "source": [
    "a(documents, directories)"
   ]
  },
  {
   "cell_type": "code",
   "execution_count": null,
   "metadata": {},
   "outputs": [],
   "source": [
    "def main():\n",
    "    while True:\n",
    "        user_input = input('Введите комманду: ')\n",
    "        if user_input == 'people':\n",
    "            p(documents)\n",
    "        elif user_input == 'shelf':\n",
    "            s(directories)\n",
    "        elif user_input == 'list':\n",
    "            l(documents)          \n",
    "        elif user_input == 'add shelf':\n",
    "            a_s(directories)\n",
    "        elif user_input == 'delete':\n",
    "            d(documents, directories)\n",
    "        elif user_input == 'muvie':    \n",
    "            m(directories)\n",
    "        elif user_input == 'add':   \n",
    "            a(documents, directories)\n",
    "        elif user_input == 'exit':\n",
    "            break"
   ]
  },
  {
   "cell_type": "code",
   "execution_count": null,
   "metadata": {},
   "outputs": [],
   "source": [
    "main()"
   ]
  },
  {
   "cell_type": "code",
   "execution_count": null,
   "metadata": {},
   "outputs": [],
   "source": [
    "#def m()\n",
    "input_user_m_doc = '10006'\n",
    "input_user_m_dir = '3'\n",
    "\n",
    "for key, value in directories.items():\n",
    "    for el in value:\n",
    "        if input_user_m_doc == el:\n",
    "            value.remove(input_user_m_doc)\n",
    "    print(f'Полки с удаленным ключом: {key}: {value}')\n",
    "    \n",
    "for key, value in directories.items():    \n",
    "    if input_user_m_dir == key:\n",
    "        value.append(input_user_m_doc)\n",
    "        print(f'Полка после добавления: {key}: {value}')"
   ]
  }
 ],
 "metadata": {
  "kernelspec": {
   "display_name": "Python 3",
   "language": "python",
   "name": "python3"
  },
  "language_info": {
   "codemirror_mode": {
    "name": "ipython",
    "version": 3
   },
   "file_extension": ".py",
   "mimetype": "text/x-python",
   "name": "python",
   "nbconvert_exporter": "python",
   "pygments_lexer": "ipython3",
   "version": "3.7.6"
  }
 },
 "nbformat": 4,
 "nbformat_minor": 2
}
