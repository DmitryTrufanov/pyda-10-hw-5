{
 "cells": [
  {
   "cell_type": "markdown",
   "metadata": {},
   "source": [
    "Вы работаете секретарем и вам постоянно приходят различные документы. Вы должны быть очень внимательны, чтобы не потерять ни один документ. Каталог документов хранится в следующем виде:"
   ]
  },
  {
   "cell_type": "code",
   "execution_count": 13,
   "metadata": {},
   "outputs": [
    {
     "name": "stdout",
     "output_type": "stream",
     "text": [
      "{'type': 'passport', 'number': '2207 876234', 'name': 'Василий Гупкин'}\n",
      "{'type': 'invoice', 'number': '11-2', 'name': 'Геннадий Покемонов'}\n",
      "{'type': 'insurance', 'number': '10006', 'name': 'Аристарх Павлов'}\n",
      "{'type': 'insurance', 'number': '10007', 'name': 'Владислав Павло'}\n"
     ]
    }
   ],
   "source": [
    "documents = [\n",
    "    {'type': 'passport', 'number': '2207 876234', 'name': 'Василий Гупкин'},\n",
    "    {'type': 'invoice', 'number': '11-2', 'name': 'Геннадий Покемонов'},\n",
    "    {'type': 'insurance', 'number': '10006', 'name': 'Аристарх Павлов'},\n",
    "    {'type': 'insurance', 'number': '10007', 'name': 'Владислав Павло'}\n",
    "]\n",
    "\n",
    "for doc in documents:\n",
    "    print(doc)"
   ]
  },
  {
   "cell_type": "markdown",
   "metadata": {},
   "source": [
    "Перечень полок, на которых находятся документы хранится в следующем виде:"
   ]
  },
  {
   "cell_type": "code",
   "execution_count": 12,
   "metadata": {},
   "outputs": [
    {
     "name": "stdout",
     "output_type": "stream",
     "text": [
      "1 ['2207 876234', '11-2']\n",
      "2 ['10006', '10007']\n",
      "3 []\n"
     ]
    }
   ],
   "source": [
    "directories = {\n",
    "    '1': ['2207 876234', '11-2'],\n",
    "    '2': ['10006', '10007'],\n",
    "    '3': []\n",
    "}\n",
    "\n",
    "for key, value in directories.items():\n",
    "    print(key, value)"
   ]
  },
  {
   "cell_type": "markdown",
   "metadata": {},
   "source": [
    "Необходимо реализовать пользовательские команды (внимание! это не название функций, которые должны быть выразительными, а команды, которые вводит пользователь, чтобы получить необходимый результат):\n",
    "  \n",
    "- p – people – команда, которая спросит номер документа и выведет имя человека, которому он принадлежит;  \n",
    "- s – shelf – команда, которая спросит номер документа и выведет номер полки, на которой он находится  \n",
    "*Правильно обработайте ситуации, когда пользователь будет вводить несуществующий документ*.\n",
    "- l – list – команда, которая выведет список всех документов в формате   \n",
    "**passport \"2207 876234\" \"Василий Гупкин\"**  \n",
    "- as – add shelf – команда, которая спросит номер новой полки и добавит ее в перечень. *Предусмотрите случай, когда пользователь добавляет полку, которая уже существует*.\n",
    "- d – delete – команда, которая спросит номер документа и удалит его из каталога и из перечня полок. *Предусмотрите сценарий, когда пользователь вводит несуществующий документ*;  \n",
    "- m – move – команда, которая спросит номер документа и целевую полку и переместит его с текущей полки на целевую. *Корректно обработайте кейсы, когда пользователь пытается переместить несуществующий документ или переместить документ на несуществующую полку*;  \n",
    "- a – add – команда, которая добавит новый документ в каталог и в перечень полок, спросив его номер, тип, имя владельца и номер полки, на котором он будет храниться. *Корректно обработайте ситуацию, когда пользователь будет пытаться добавить документ на несуществующую полку*."
   ]
  },
  {
   "cell_type": "code",
   "execution_count": null,
   "metadata": {},
   "outputs": [],
   "source": [
    "#def p(documents)\n",
    "input_num_doc = input('Введите номер документа: ')\n",
    "for doc in documents:\n",
    "    if input_num_doc == doc['number']:\n",
    "        print(doc['name'])   "
   ]
  },
  {
   "cell_type": "code",
   "execution_count": 27,
   "metadata": {},
   "outputs": [
    {
     "name": "stdout",
     "output_type": "stream",
     "text": [
      "Введите номер документа: 10006\n",
      "Номер полки: 2\n"
     ]
    }
   ],
   "source": [
    "#def s(directories):\n",
    "\n",
    "input_user_s = input('Введите номер документа: ')\n",
    "\n",
    "key_list = list(directories.keys())\n",
    "val_list = list(directories.values())\n",
    "\n",
    "for value in directories.values():\n",
    "    #print(value)\n",
    "    for el in value:\n",
    "        if input_user_s == el:\n",
    "            print(f'Номер полки: {key_list[val_list.index(value)]}')\n",
    "            "
   ]
  },
  {
   "cell_type": "code",
   "execution_count": null,
   "metadata": {},
   "outputs": [],
   "source": [
    "#def l(documents):\n",
    "for document in documents:\n",
    "    print(f'{document[\"type\"]} \"{document[\"number\"]}\" \"{document[\"name\"]}\"')\n",
    "    "
   ]
  },
  {
   "cell_type": "code",
   "execution_count": null,
   "metadata": {},
   "outputs": [],
   "source": [
    "#def as (directories)\n",
    "user_input_dir = input('Введите номер полки: ')\n",
    "if user_input_dir in directories:\n",
    "    print(f'Такая полка уже есть. Список существующих полок: {list(directories.keys())}')\n",
    "    user_input_dir = input('Введите еще раз номер полки: ')\n",
    "    directories [user_input_dir] = []\n",
    "    print(directories)"
   ]
  },
  {
   "cell_type": "code",
   "execution_count": 25,
   "metadata": {},
   "outputs": [
    {
     "name": "stdout",
     "output_type": "stream",
     "text": [
      "Полки: 1: ['2207 876234', '11-2']\n",
      "Полки: 2: ['10006']\n",
      "Полки: 3: []\n",
      "Документы: {'type': 'passport', 'number': '2207 876234', 'name': 'Василий Гупкин'}\n",
      "Документы: {'type': 'invoice', 'number': '11-2', 'name': 'Геннадий Покемонов'}\n",
      "Документы: {'type': 'insurance', 'number': '10006', 'name': 'Аристарх Павлов'}\n"
     ]
    }
   ],
   "source": [
    "#def d ()\n",
    "input_user_d = '10007'\n",
    "\n",
    "for key, value in directories.items():\n",
    "    for el in value:\n",
    "        if input_user_d == el:\n",
    "            value.remove(input_user_d)\n",
    "    print(f'Полки: {key}: {value}')            \n",
    "\n",
    "for doc in documents:\n",
    "    if input_user_d == doc['number']:\n",
    "        documents.remove(doc)\n",
    "    print(f'Документы: {doc}')\n",
    "        "
   ]
  }
 ],
 "metadata": {
  "kernelspec": {
   "display_name": "Python 3",
   "language": "python",
   "name": "python3"
  },
  "language_info": {
   "codemirror_mode": {
    "name": "ipython",
    "version": 3
   },
   "file_extension": ".py",
   "mimetype": "text/x-python",
   "name": "python",
   "nbconvert_exporter": "python",
   "pygments_lexer": "ipython3",
   "version": "3.7.6"
  }
 },
 "nbformat": 4,
 "nbformat_minor": 2
}
